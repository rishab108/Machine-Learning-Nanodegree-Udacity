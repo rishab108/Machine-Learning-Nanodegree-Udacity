{
 "cells": [
  {
   "cell_type": "code",
   "execution_count": 9,
   "metadata": {
    "collapsed": true
   },
   "outputs": [],
   "source": [
    "#importing required python libraries\n",
    "\n",
    "import numpy as np\n",
    "import pandas as pd\n",
    "import cv2"
   ]
  },
  {
   "cell_type": "code",
   "execution_count": 2,
   "metadata": {
    "collapsed": true
   },
   "outputs": [],
   "source": [
    "#creates empty dataframe to store all pixel arrays\n",
    "\n",
    "traindata=pd.DataFrame()"
   ]
  },
  {
   "cell_type": "code",
   "execution_count": 3,
   "metadata": {
    "collapsed": true
   },
   "outputs": [],
   "source": [
    "#this function takes input as video and generate gray,resized image arrays and store into dataframe\n",
    "\n",
    "def video_to_frames_generatedata_adv(video):\n",
    "    \n",
    "    count=1\n",
    "    new_width  = 128\n",
    "    new_height = 72\n",
    "    vidcap = cv2.VideoCapture(video)\n",
    "    traindata=pd.DataFrame()\n",
    "    \n",
    "    while vidcap.isOpened():\n",
    "        \n",
    "        frameId =vidcap.get(1)\n",
    "        success, image = vidcap.read()\n",
    "        if success:\n",
    "            if(frameId%3==0):\n",
    "                    \n",
    "                    image = cv2.cvtColor(image, cv2.COLOR_BGR2GRAY)\n",
    "                    image = cv2.resize(image,(new_width, new_height))\n",
    "                    im = (np.array(image)).flatten().reshape(1,9216)\n",
    "                    im=np.divide(im,255)\n",
    "                    print(\"running : \", count)\n",
    "                    data=pd.DataFrame(im)\n",
    "                    traindata=traindata.append(data)\n",
    "                \n",
    "                    count=count+1\n",
    "            if(count>2000):\n",
    "                    break\n",
    "                \n",
    "        else:\n",
    "            break\n",
    "   \n",
    "    cv2.destroyAllWindows()\n",
    "    vidcap.release()   \n",
    "    return traindata"
   ]
  },
  {
   "cell_type": "code",
   "execution_count": null,
   "metadata": {
    "collapsed": true
   },
   "outputs": [],
   "source": [
    "newdata=video_to_frames_generatedata_adv('My Video 1.mp4')\n",
    "traindata=traindata.append(newdata)"
   ]
  },
  {
   "cell_type": "code",
   "execution_count": 6,
   "metadata": {},
   "outputs": [
    {
     "data": {
      "text/plain": [
       "(2000, 9216)"
      ]
     },
     "execution_count": 6,
     "metadata": {},
     "output_type": "execute_result"
    }
   ],
   "source": [
    "traindata.shape"
   ]
  },
  {
   "cell_type": "code",
   "execution_count": 7,
   "metadata": {
    "collapsed": true
   },
   "outputs": [],
   "source": [
    "#this function takes input as video and generate gray,resized image arrays and store into dataframe\n",
    "\n",
    "\n",
    "def video_to_frames_generatedata_cric(video):\n",
    "    \n",
    "    count=1\n",
    "    new_width  = 128\n",
    "    new_height = 72\n",
    "    vidcap = cv2.VideoCapture(video)\n",
    "    traindata=pd.DataFrame()\n",
    "    \n",
    "    while vidcap.isOpened():\n",
    "        \n",
    "        frameId =vidcap.get(1)\n",
    "        success, image = vidcap.read()\n",
    "        if success:\n",
    "            if(frameId%3==0):\n",
    "                    \n",
    "                    image = cv2.cvtColor(image, cv2.COLOR_BGR2GRAY)\n",
    "                    image = cv2.resize(image,(new_width, new_height))\n",
    "                    im = (np.array(image)).flatten().reshape(1,9216)\n",
    "                    im=np.divide(im,255)\n",
    "                    print(\"running :\", count)\n",
    "                    data=pd.DataFrame(im)\n",
    "                    traindata=traindata.append(data)\n",
    "                \n",
    "                    count=count+1\n",
    "            if(count>8000):\n",
    "                    break\n",
    "                \n",
    "        else:\n",
    "            break\n",
    "   \n",
    "    cv2.destroyAllWindows()\n",
    "    vidcap.release()   \n",
    "    return traindata"
   ]
  },
  {
   "cell_type": "code",
   "execution_count": null,
   "metadata": {
    "collapsed": true
   },
   "outputs": [],
   "source": [
    "newdata=video_to_frames_generatedata_cric('My Video 2.mp4')\n",
    "traindata=traindata.append(newdata)"
   ]
  },
  {
   "cell_type": "code",
   "execution_count": 9,
   "metadata": {},
   "outputs": [
    {
     "data": {
      "text/plain": [
       "(10000, 9216)"
      ]
     },
     "execution_count": 9,
     "metadata": {},
     "output_type": "execute_result"
    }
   ],
   "source": [
    "traindata.shape"
   ]
  },
  {
   "cell_type": "code",
   "execution_count": 10,
   "metadata": {
    "collapsed": true
   },
   "outputs": [],
   "source": [
    "#create labels for data generated\n",
    "\n",
    "labelarray=np.array([])\n",
    "i=1\n",
    "while(i<2001):\n",
    "    labelarray=np.append(labelarray,[0],axis=None)\n",
    "    i=i+1       "
   ]
  },
  {
   "cell_type": "code",
   "execution_count": 11,
   "metadata": {
    "collapsed": true
   },
   "outputs": [],
   "source": [
    "j=1 \n",
    "while(j<8001):\n",
    "    labelarray=np.append(labelarray,[1],axis=None)\n",
    "    j=j+1"
   ]
  },
  {
   "cell_type": "code",
   "execution_count": 12,
   "metadata": {},
   "outputs": [
    {
     "data": {
      "text/plain": [
       "(10000, 2)"
      ]
     },
     "execution_count": 12,
     "metadata": {},
     "output_type": "execute_result"
    }
   ],
   "source": [
    "labeldata=pd.DataFrame({'labels':labelarray})\n",
    "labeldata=pd.get_dummies(labeldata['labels'])\n",
    "labeldata.shape"
   ]
  },
  {
   "cell_type": "code",
   "execution_count": 13,
   "metadata": {
    "collapsed": true
   },
   "outputs": [],
   "source": [
    "#save data and labels to csv file,load these file and use in CNN\n",
    "\n",
    "traindata.to_csv('traindata_gray.csv')"
   ]
  },
  {
   "cell_type": "code",
   "execution_count": 14,
   "metadata": {
    "collapsed": true
   },
   "outputs": [],
   "source": [
    "#save data and labels to csv file,load these file and use in CNN\n",
    "\n",
    "labeldata.to_csv('labeldata_gray.csv')"
   ]
  },
  {
   "cell_type": "code",
   "execution_count": 1,
   "metadata": {
    "collapsed": true
   },
   "outputs": [],
   "source": [
    "import matplotlib.pyplot as plt"
   ]
  },
  {
   "cell_type": "code",
   "execution_count": 7,
   "metadata": {},
   "outputs": [
    {
     "data": {
      "image/png": "[encoded data removed]",
      "text/plain": [
       "<matplotlib.figure.Figure at 0x25f630e9a90>"
      ]
     },
     "metadata": {},
     "output_type": "display_data"
    }
   ],
   "source": [
    "D = {'Cricket':8000, 'Advertisement': 2000}\n",
    "plt.ylabel(\"Number of Images\")\n",
    "plt.xlabel(\"Data Categories\")\n",
    "plt.title(\"Distribution of input data\")\n",
    "plt.bar(range(len(D)), D.values(), align='center')\n",
    "plt.xticks(range(len(D)), D.keys())\n",
    "plt.show()"
   ]
  },
  {
   "cell_type": "code",
   "execution_count": 8,
   "metadata": {},
   "outputs": [
    {
     "data": {
      "image/png": "[encoded data removed]",
      "text/plain": [
       "<matplotlib.figure.Figure at 0x25f62ee47f0>"
      ]
     },
     "metadata": {},
     "output_type": "display_data"
    }
   ],
   "source": [
    "D = {'Training Data':8000, 'Testing Data': 2000}\n",
    "plt.ylabel(\"Number of Images\")\n",
    "plt.xlabel(\"Data Train/test\")\n",
    "plt.title(\"Distribution of input data to training Data and Testing Data\")\n",
    "plt.bar(range(len(D)), D.values(), align='center')\n",
    "plt.xticks(range(len(D)), D.keys())\n",
    "plt.show()"
   ]
  }
 ],
 "metadata": {
  "kernelspec": {
   "display_name": "Python 3",
   "language": "python",
   "name": "python3"
  },
  "language_info": {
   "codemirror_mode": {
    "name": "ipython",
    "version": 3
   },
   "file_extension": ".py",
   "mimetype": "text/x-python",
   "name": "python",
   "nbconvert_exporter": "python",
   "pygments_lexer": "ipython3",
   "version": "3.6.3"
  }
 },
 "nbformat": 4,
 "nbformat_minor": 2
}
